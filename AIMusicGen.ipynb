{
  "cells": [
    {
      "cell_type": "markdown",
      "metadata": {
        "colab_type": "text",
        "id": "view-in-github"
      },
      "source": [
        "<a href=\"https://github.com/nassimspace/google-colab/blob/main/AIMusicGen.ipynb\" target=\"_parent\"><img src=\"https://colab.research.google.com/assets/colab-badge.svg\" alt=\"Open In Colab\"/></a>"
      ]
    },
    {
      "cell_type": "markdown",
      "metadata": {
        "id": "Aeu3H8L8jggV"
      },
      "source": [
        "# Music Generation with Colab, MusicGen, AudioGen, and EnCodec\n",
        "\n",
        "This notebook demonstrates music generation using Meta's AI models on Google Colab's T2 GPU. Users can specify \n",
        "genre, duration, tempo, and a prompt through a form to generate a WAV audio file stored in Google Drive.\n",
        "\n",
        "## Requirements:\n",
        "\n",
        "- T2 GPU runtime in Colab\n",
        "- Libraries: musicgen, audiogen, torch, torchaudio\n",
        "\n",
        "## Instructions:\n",
        "1) Runtime: Change runtime type to \"T2 GPU\" (Runtime -> Change runtime type).\n",
        "2) Mount Drive: Run the following code to mount your Google Drive (follow on-screen instructions)."
      ]
    },
    {
      "cell_type": "code",
      "execution_count": null,
      "metadata": {
        "colab": {
          "base_uri": "https://localhost:8080/",
          "height": 1000
        },
        "id": "UII_vA8HwxYS",
        "outputId": "7356b3f3-bbb3-4bc1-cf8a-99d3818111a3"
      },
      "outputs": [],
      "source": [
        "# Mount Google Drive Folder\n",
        "from google.colab import drive\n",
        "drive.mount('/content/drive')"
      ]
    },
    {
      "cell_type": "markdown",
      "metadata": {},
      "source": [
        "3) Install Libraries: Run the following code to install required libraries."
      ]
    },
    {
      "cell_type": "code",
      "execution_count": null,
      "metadata": {},
      "outputs": [],
      "source": [
        "\n",
        "# Setup environment and install requirements\n",
        "!pip install musicgen audiogen torch torchaudio"
      ]
    },
    {
      "cell_type": "code",
      "execution_count": null,
      "metadata": {
        "colab": {
          "base_uri": "https://localhost:8080/"
        },
        "id": "ZwKs2GGRr6i-",
        "outputId": "029be660-1959-41ea-bd88-fd89b6c63286"
      },
      "outputs": [],
      "source": [
        "from musicgen import MusicGen\n",
        "from audiogen import AudioGen\n",
        "from encodec import EnCodec\n",
        "from IPython.display import HTML, display\n",
        "from ipywidgets import interact, widgets\n",
        "\n",
        "# Define Google Drive path for generated music (replace if needed)\n",
        "output_folder = \"/content/drive/MyDrive/MusicGen_Output\"\n",
        "\n",
        "# Function to generate music based on user input\n",
        "def generate_music(genre, duration, tempo, prompt):\n",
        "  # Create MusicGen model\n",
        "  musicgen = MusicGen(genre=genre)\n",
        "\n",
        "  # Generate musical sequence based on prompt\n",
        "  sequence = musicgen.generate(prompt=prompt, length=duration*tempo)\n",
        "\n",
        "  # Create AudioGen model\n",
        "  audiogen = AudioGen()\n",
        "\n",
        "  # Generate audio from the sequence\n",
        "  audio = audiogen.generate(sequence)\n",
        "\n",
        "  # Create EnCodec model\n",
        "  encoder = EnCodec()\n",
        "\n",
        "  # Convert audio to WAV format\n",
        "  wav_data = encoder.encode(audio)\n",
        "\n",
        "  # Save WAV file to Google Drive\n",
        "  filename = f\"{genre}_{duration}s_{tempo}bpm.wav\"\n",
        "  with open(f\"{output_folder}/{filename}\", \"wb\") as f:\n",
        "    f.write(wav_data)\n",
        "\n",
        "  return filename\n",
        "\n",
        "# Function called when the user clicks \"Generate Music\"\n",
        "def run_generation(widgets):\n",
        "  genre, duration, tempo, prompt = widgets.values()\n",
        "  filename = generate_music(genre, duration, tempo, prompt)\n",
        "  display(HTML(f\"<p>Music generation complete! File: {filename}</p>\"))\n",
        "\n",
        "# Generate form for user input with widgets\n",
        "genre_input = widgets.Text(description=\"Genre:\")\n",
        "duration_input = widgets.IntSlider(min=1, max=300, value=60, description=\"Duration (seconds):\")\n",
        "tempo_input = widgets.IntSlider(min=60, max=200, value=120, description=\"Tempo (BPM):\")\n",
        "prompt_input = widgets.Textarea(description=\"Prompt (e.g., Upbeat jazz melody):\", rows=4)\n",
        "generate_button = widgets.Button(description=\"Generate Music\")\n",
        "\n",
        "# Connect form elements to callback function using interact\n",
        "interact(run_generation, genre=genre_input, duration=duration_input, tempo=tempo_input, prompt=prompt_input)\n",
        "\n",
        "# Alternatively, connect button click to callback\n",
        "generate_button.on_click(run_generation)\n",
        "\n",
        "# Display the form layout\n",
        "display(widgets.HBox([genre_input, duration_input, tempo_input]))\n",
        "display(prompt_input)\n",
        "display(generate_button)\n"
      ]
    },
    {
      "cell_type": "markdown",
      "metadata": {},
      "source": [
        "## Explanations\n",
        "\n",
        "1) The code defines the output folder path on your Google Drive.\n",
        "\n",
        "2) The ```generate_music``` function takes user input and performs the music generation steps:\n",
        "- Creates a MusicGen model with the specified genre.\n",
        "- Generates a musical sequence based on the prompt and desired length.\n",
        "- Creates an AudioGen model and generates audio from the sequence.\n",
        "- Creates an EnCodec model and converts the audio to WAV format.\n",
        "- Saves the WAV file to the predefined Google Drive folder.\n",
        "- Returns the filename for displaying a success message.\n",
        "\n",
        "3) The ```run_generation``` function is called when the user interacts with the form.\n",
        "- It retrieves user input values from the form elements.\n",
        "- Calls the ```generate_music``` function with the extracted values.\n",
        "- Displays a success message with the generated filename.\n",
        "\n",
        "4) We use ```ipywidgets``` to create interactive form elements:\n",
        "- Text input for genre.\n",
        "- Slider for duration (seconds).\n",
        "- Slider for tempo (beats per minute).\n",
        "- Text area for the prompt describing the desired music\n",
        "\n",
        "\n"
      ]
    }
  ],
  "metadata": {
    "accelerator": "GPU",
    "colab": {
      "collapsed_sections": [
        "Aeu3H8L8jggV"
      ],
      "gpuType": "T4",
      "include_colab_link": true,
      "provenance": []
    },
    "kernelspec": {
      "display_name": "Python 3",
      "name": "python3"
    },
    "language_info": {
      "name": "python"
    }
  },
  "nbformat": 4,
  "nbformat_minor": 0
}
